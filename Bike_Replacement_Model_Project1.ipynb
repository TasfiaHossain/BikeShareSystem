{
  "nbformat": 4,
  "nbformat_minor": 0,
  "metadata": {
    "colab": {
      "name": "Copy of Bike Replacement Model Project1.ipynb",
      "provenance": [],
      "collapsed_sections": []
    },
    "kernelspec": {
      "name": "python3",
      "display_name": "Python 3"
    },
    "language_info": {
      "name": "python"
    }
  },
  "cells": [
    {
      "cell_type": "markdown",
      "source": [
        "# **Bike Share Replacement Model at Queens College**\n",
        "By: Dee Slawotsky, Tasfia Hossain, Nirvana Persaud"
      ],
      "metadata": {
        "id": "RsqsC9BGlrfz"
      }
    },
    {
      "cell_type": "markdown",
      "source": [
        "#Imports"
      ],
      "metadata": {
        "id": "7c33uK2L0hQB"
      }
    },
    {
      "cell_type": "code",
      "source": [
        "# install Pint if necessary\n",
        "try:\n",
        "    from pint import UnitRegistry\n",
        "except ImportError:\n",
        "    !pip install pint"
      ],
      "metadata": {
        "id": "L3fEOFDQux1-",
        "outputId": "a648241d-2811-42ee-a4ab-0adb48a2f12f",
        "colab": {
          "base_uri": "https://localhost:8080/"
        }
      },
      "execution_count": null,
      "outputs": [
        {
          "output_type": "stream",
          "name": "stdout",
          "text": [
            "Collecting pint\n",
            "  Downloading Pint-0.18-py2.py3-none-any.whl (209 kB)\n",
            "\u001b[?25l\r\u001b[K     |█▋                              | 10 kB 31.4 MB/s eta 0:00:01\r\u001b[K     |███▏                            | 20 kB 37.1 MB/s eta 0:00:01\r\u001b[K     |████▊                           | 30 kB 20.6 MB/s eta 0:00:01\r\u001b[K     |██████▎                         | 40 kB 19.1 MB/s eta 0:00:01\r\u001b[K     |███████▉                        | 51 kB 12.6 MB/s eta 0:00:01\r\u001b[K     |█████████▍                      | 61 kB 14.5 MB/s eta 0:00:01\r\u001b[K     |███████████                     | 71 kB 13.4 MB/s eta 0:00:01\r\u001b[K     |████████████▌                   | 81 kB 14.4 MB/s eta 0:00:01\r\u001b[K     |██████████████                  | 92 kB 15.7 MB/s eta 0:00:01\r\u001b[K     |███████████████▋                | 102 kB 9.8 MB/s eta 0:00:01\r\u001b[K     |█████████████████▏              | 112 kB 9.8 MB/s eta 0:00:01\r\u001b[K     |██████████████████▊             | 122 kB 9.8 MB/s eta 0:00:01\r\u001b[K     |████████████████████▎           | 133 kB 9.8 MB/s eta 0:00:01\r\u001b[K     |█████████████████████▉          | 143 kB 9.8 MB/s eta 0:00:01\r\u001b[K     |███████████████████████▍        | 153 kB 9.8 MB/s eta 0:00:01\r\u001b[K     |█████████████████████████       | 163 kB 9.8 MB/s eta 0:00:01\r\u001b[K     |██████████████████████████▋     | 174 kB 9.8 MB/s eta 0:00:01\r\u001b[K     |████████████████████████████▏   | 184 kB 9.8 MB/s eta 0:00:01\r\u001b[K     |█████████████████████████████▊  | 194 kB 9.8 MB/s eta 0:00:01\r\u001b[K     |███████████████████████████████▎| 204 kB 9.8 MB/s eta 0:00:01\r\u001b[K     |████████████████████████████████| 209 kB 9.8 MB/s \n",
            "\u001b[?25hRequirement already satisfied: packaging in /usr/local/lib/python3.7/dist-packages (from pint) (21.3)\n",
            "Requirement already satisfied: importlib-metadata in /usr/local/lib/python3.7/dist-packages (from pint) (4.11.1)\n",
            "Requirement already satisfied: zipp>=0.5 in /usr/local/lib/python3.7/dist-packages (from importlib-metadata->pint) (3.7.0)\n",
            "Requirement already satisfied: typing-extensions>=3.6.4 in /usr/local/lib/python3.7/dist-packages (from importlib-metadata->pint) (3.10.0.2)\n",
            "Requirement already satisfied: pyparsing!=3.0.5,>=2.0.2 in /usr/local/lib/python3.7/dist-packages (from packaging->pint) (3.0.7)\n",
            "Installing collected packages: pint\n",
            "Successfully installed pint-0.18\n"
          ]
        }
      ]
    },
    {
      "cell_type": "code",
      "source": [
        "# download modsim.py if necessary\n",
        "\n",
        "from os.path import basename, exists\n",
        "\n",
        "def download(url):\n",
        "    filename = basename(url)\n",
        "    if not exists(filename):\n",
        "        from urllib.request import urlretrieve\n",
        "        local, _ = urlretrieve(url, filename)\n",
        "        print('Downloaded ' + local)\n",
        "    \n",
        "download('https://github.com/AllenDowney/ModSimPy/raw/master/' +\n",
        "         'modsim.py')"
      ],
      "metadata": {
        "id": "iDRWwGrRu2Gn",
        "outputId": "eb610c7c-21a5-46f5-cff9-9cea9a63e746",
        "colab": {
          "base_uri": "https://localhost:8080/"
        }
      },
      "execution_count": null,
      "outputs": [
        {
          "output_type": "stream",
          "name": "stdout",
          "text": [
            "Downloaded modsim.py\n"
          ]
        }
      ]
    },
    {
      "cell_type": "code",
      "source": [
        "# import functions from modsim\n",
        "\n",
        "from modsim import *"
      ],
      "metadata": {
        "id": "Tzi_pSXGu3-P"
      },
      "execution_count": null,
      "outputs": []
    },
    {
      "cell_type": "code",
      "source": [
        "import numpy as np"
      ],
      "metadata": {
        "id": "hJJO-VPk4bAc"
      },
      "execution_count": null,
      "outputs": []
    },
    {
      "cell_type": "markdown",
      "source": [
        "# Functions"
      ],
      "metadata": {
        "id": "EbWy5QGF0kq4"
      }
    },
    {
      "cell_type": "code",
      "source": [
        "#tracks the replacement of the bikes, when there is movement from each station\n",
        "#this is tracking the bikes at Queens Hall\n",
        "\n",
        "def bike_to_kielyHall(State): \n",
        "  if State.queensHall == 0: #if there are no bikes available at Queens Hall\n",
        "    return #function returns nothing\n",
        "\n",
        "  State.kielyHall += 1 #bike is going from Q.H to Kiely, so Kiely will gain a bike at its station\n",
        "  State.queensHall -= 1 #bike is leaving Q.H, so subtract a bike from that station\n",
        "  State.rides += 1 #counter to track the number of rides \n",
        "  return"
      ],
      "metadata": {
        "id": "90kpMg2gwJwI"
      },
      "execution_count": null,
      "outputs": []
    },
    {
      "cell_type": "code",
      "source": [
        "#tracks the replacement of the bikes, when there is movement from each station\n",
        "#this is tracking the bikes at Kiely Hall\n",
        "\n",
        "def bike_to_queensHall(State):\n",
        "  if State.kielyHall == 0:  #if there are no bikes available at Kiely Hall\n",
        "    return  #function returns nothing\n",
        "\n",
        "  State.queensHall += 1  #bike is going from Q.H to Kiely, so Kiely will gain a bike at its station\n",
        "  State.kielyHall -= 1  #bike is leaving Q.H, so subtract a bike from that station\n",
        "  State.rides +=1 #counter to track the number of rides \n",
        "  return"
      ],
      "metadata": {
        "id": "jUdcULuowLFJ"
      },
      "execution_count": null,
      "outputs": []
    },
    {
      "cell_type": "code",
      "source": [
        "#simulation to track the movement of these bikes from every station\n",
        "\n",
        "def step(State, p1, p2): #p1 and p2 represent the proabilities we will define\n",
        "  if flip(p1):\n",
        "    bike_to_kielyHall(State) #tracking the bikes at Kiely\n",
        "    if State.rides == 50: #expecting the bikes to break down after 50 rides\n",
        "      newBikeKiely(State) # so we will purchase a new bike\n",
        "      #print(\"new bike purchased\")\n",
        "  if flip(p2):\n",
        "    bike_to_queensHall(State) #same will occur for p2/Queens Hall station ^\n",
        "    if State.rides == 50:\n",
        "      newBikeQueens(State) \n",
        "      #print(\"new bike purchased\")"
      ],
      "metadata": {
        "id": "rC4XlcSgBk_d"
      },
      "execution_count": null,
      "outputs": []
    },
    {
      "cell_type": "markdown",
      "source": [
        "#Simulation and Visualizations\n"
      ],
      "metadata": {
        "id": "dC9dlEe_0rH9"
      }
    },
    {
      "cell_type": "code",
      "source": [
        "#created a timeSeries to run the simulation and collect data from there to create a better visualization of our data\n",
        "\n",
        "def runSimulation(State, p1, p2, numsteps):\n",
        "\n",
        "  timeSeriesQ = TimeSeries()\n",
        "  timeSeriesQ[0] = 0 #initial number of bikes at Q.H\n",
        "\n",
        "  timeSeriesK = TimeSeries()\n",
        "  timeSeriesK[0] = 0  #initial number of bikes at K.H\n",
        "\n",
        "  timeSeriesQT = TimeSeries()\n",
        "  timeSeriesQT [0] = State.queensHall\n",
        "\n",
        "  timeSeriesKT = TimeSeries()\n",
        "  timeSeriesKT [0] = State.kielyHall\n",
        "\n",
        "  for j in range(30): #going from 0-30, representing each day making up a month\n",
        "    for i in range(numsteps):\n",
        "      step(State, p1, p2)\n",
        "    timeSeriesK[j + 1] = State.kielyReplaced #track how many bikes were replaced at Kiely over the course of a month\n",
        "    timeSeriesQ[j + 1] = State.queensReplaced\n",
        "    timeSeriesKT[j + 1] = State.kielyHall #track how many bikes were used at Kiely over the course of a month\n",
        "    timeSeriesQT[j + 1] = State.queensHall\n",
        "\n",
        "\n",
        "  timeSeriesQ.plot(label='Queens', color='#B983FF') #plotting the graph\n",
        "  timeSeriesK.plot(label='Kiely', color='#94DAFF')\n",
        "  decorate(title='Bike Replacement',\n",
        "             xlabel='Time Step (day)',\n",
        "             ylabel='Amount Replaced')\n",
        "    \n",
        "  plotdataKT = pd.DataFrame(timeSeriesKT)\n",
        "  plotdataKT.plot(kind=\"bar\", color='#94DAFF', xlabel='Days in Kiely Hall')\n",
        "  plotdataQT = pd.DataFrame(timeSeriesQT)\n",
        "  plotdataQT.plot(kind=\"bar\", color='#B983FF', xlabel='Days in Queens Hall')"
      ],
      "metadata": {
        "id": "fKSie6Dkx6Dg"
      },
      "execution_count": null,
      "outputs": []
    },
    {
      "cell_type": "code",
      "source": [
        "def newBikeKiely(State):\n",
        "    if State.kielyHall >= State.queensHall: #if there are less bikes at Queens Hall, even tho it broke at Kiely, add it to Queens to balance it\n",
        "      State.queensReplaced += 1\n",
        "      State.kielyHall -= 1 #the one from Kiely broke\n",
        "      State.queensHall += 1 \n",
        "    else:\n",
        "      State.kielyReplaced += 1  #add the replacement count at Kiely, as it has been replaced at arrival\n",
        "    State.rides = 0"
      ],
      "metadata": {
        "id": "9JoDwOLv9xYS"
      },
      "execution_count": null,
      "outputs": []
    },
    {
      "cell_type": "code",
      "source": [
        "def newBikeQueens(State):\n",
        "    if State.queensHall >= State.queensHall: #if there are less bikes at Kiely Hall, even tho it broke at Queens, add it to Kiely to balance it\n",
        "      State.kielyReplaced += 1\n",
        "      State.kielyHall += 1\n",
        "      State.queensHall -= 1 #the one from Queens broke\n",
        "    else:\n",
        "      State.queensReplaced += 1 #add the replacement count at Queens, as it has been replaced at arrival\n",
        "    State.rides = 0"
      ],
      "metadata": {
        "id": "lkyVswcZiKEr"
      },
      "execution_count": null,
      "outputs": []
    },
    {
      "cell_type": "code",
      "source": [
        "bikeshare = State(queensHall=30, kielyHall=30, rides=0, kielyReplaced=0, queensReplaced=0)\n",
        "runSimulation(bikeshare, 0.5, 0.5, 300)"
      ],
      "metadata": {
        "colab": {
          "base_uri": "https://localhost:8080/",
          "height": 826
        },
        "id": "UBtt73_DzaVE",
        "outputId": "bc56dd4a-1fc2-4173-d450-ef57fdad3b8e"
      },
      "execution_count": null,
      "outputs": [
        {
          "output_type": "display_data",
          "data": {
            "image/png": "[encoded data removed]",
            "text/plain": [
              "<Figure size 432x288 with 1 Axes>"
            ]
          },
          "metadata": {
            "needs_background": "light"
          }
        },
        {
          "output_type": "display_data",
          "data": {
            "image/png": "[encoded data removed]",
            "text/plain": [
              "<Figure size 432x288 with 1 Axes>"
            ]
          },
          "metadata": {
            "needs_background": "light"
          }
        },
        {
          "output_type": "display_data",
          "data": {
            "image/png": "[encoded data removed]",
            "text/plain": [
              "<Figure size 432x288 with 1 Axes>"
            ]
          },
          "metadata": {
            "needs_background": "light"
          }
        }
      ]
    }
  ]
}